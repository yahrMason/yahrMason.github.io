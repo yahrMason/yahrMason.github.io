{
 "cells": [
  {
   "cell_type": "code",
   "execution_count": 6,
   "metadata": {},
   "outputs": [],
   "source": [
    "NOTEBOOK = \"2023-06-14-ode-numeric-approx\""
   ]
  },
  {
   "cell_type": "code",
   "execution_count": 9,
   "metadata": {},
   "outputs": [
    {
     "data": {
      "text/plain": [
       "'c:\\\\Users\\\\mason\\\\Documents\\\\GitHub\\\\yahrMason.github.io\\\\python'"
      ]
     },
     "execution_count": 9,
     "metadata": {},
     "output_type": "execute_result"
    }
   ],
   "source": [
    "os.getcwd()"
   ]
  },
  {
   "cell_type": "code",
   "execution_count": 11,
   "metadata": {},
   "outputs": [
    {
     "ename": "FileNotFoundError",
     "evalue": "[WinError 3] The system cannot find the path specified: '/../assets/2023-06-14-ode-numeric-approx_files'",
     "output_type": "error",
     "traceback": [
      "\u001b[1;31m---------------------------------------------------------------------------\u001b[0m",
      "\u001b[1;31mFileNotFoundError\u001b[0m                         Traceback (most recent call last)",
      "\u001b[1;32m~\\AppData\\Local\\Temp\\ipykernel_10004\\1499891782.py\u001b[0m in \u001b[0;36m<module>\u001b[1;34m\u001b[0m\n\u001b[0;32m     12\u001b[0m \u001b[1;32mif\u001b[0m \u001b[0mos\u001b[0m\u001b[1;33m.\u001b[0m\u001b[0mpath\u001b[0m\u001b[1;33m.\u001b[0m\u001b[0mexists\u001b[0m\u001b[1;33m(\u001b[0m\u001b[1;34mf\"{NOTEBOOK}_files\"\u001b[0m\u001b[1;33m)\u001b[0m\u001b[1;33m:\u001b[0m\u001b[1;33m\u001b[0m\u001b[1;33m\u001b[0m\u001b[0m\n\u001b[0;32m     13\u001b[0m     \u001b[1;32mif\u001b[0m \u001b[0mos\u001b[0m\u001b[1;33m.\u001b[0m\u001b[0mpath\u001b[0m\u001b[1;33m.\u001b[0m\u001b[0mexists\u001b[0m\u001b[1;33m(\u001b[0m\u001b[1;34mf\"../assets/{NOTEBOOK}_files\"\u001b[0m\u001b[1;33m)\u001b[0m\u001b[1;33m:\u001b[0m\u001b[1;33m\u001b[0m\u001b[1;33m\u001b[0m\u001b[0m\n\u001b[1;32m---> 14\u001b[1;33m         \u001b[0mos\u001b[0m\u001b[1;33m.\u001b[0m\u001b[0mrmdir\u001b[0m\u001b[1;33m(\u001b[0m\u001b[1;34mf\"/../assets/{NOTEBOOK}_files\"\u001b[0m\u001b[1;33m)\u001b[0m\u001b[1;33m\u001b[0m\u001b[1;33m\u001b[0m\u001b[0m\n\u001b[0m\u001b[0;32m     15\u001b[0m \u001b[1;33m\u001b[0m\u001b[0m\n\u001b[0;32m     16\u001b[0m \u001b[1;31m# Move posts and assets\u001b[0m\u001b[1;33m\u001b[0m\u001b[1;33m\u001b[0m\u001b[1;33m\u001b[0m\u001b[0m\n",
      "\u001b[1;31mFileNotFoundError\u001b[0m: [WinError 3] The system cannot find the path specified: '/../assets/2023-06-14-ode-numeric-approx_files'"
     ]
    }
   ],
   "source": [
    "import os\n",
    "import shutil\n",
    "\n",
    "# convert notebook\n",
    "os.system(f\"jupyter nbconvert --to markdown {NOTEBOOK}.ipynb\")\n",
    "\n",
    "# Delete Markdown File in _posts if it exists\n",
    "if os.path.exists(f\"../_posts/{NOTEBOOK}.md\"):\n",
    "    os.remove(f\"../_posts/{NOTEBOOK}.md\")\n",
    "\n",
    "# If there are supporting files, delete the \n",
    "if os.path.exists(f\"{NOTEBOOK}_files\"):\n",
    "    if os.path.exists(f\"../assets/{NOTEBOOK}_files\"):\n",
    "        os.rmdir(f\"../assets/{NOTEBOOK}_files\")\n",
    "\n",
    "# Move posts and assets\n",
    "shutil.move(f\"{NOTEBOOK}.md\", f\"../_posts/{NOTEBOOK}.md\")\n",
    "shutil.move(f\"{NOTEBOOK}_files\",f\"../assets/{NOTEBOOK}_files\")\n",
    "\n",
    "# update image paths in md\n",
    "with open(f\"../_posts/{NOTEBOOK}.md\", \"r\") as OpenFile:\n",
    "    txt = OpenFile.read()\n",
    "    txt = txt.replace(\"![png](\", \"![png](../assets/\")\n",
    "\n",
    "with open(f\"../_posts/{NOTEBOOK}.md\", \"w\") as OpenFile:    \n",
    "    OpenFile.write(txt)"
   ]
  },
  {
   "cell_type": "code",
   "execution_count": null,
   "metadata": {},
   "outputs": [],
   "source": []
  }
 ],
 "metadata": {
  "kernelspec": {
   "display_name": "base",
   "language": "python",
   "name": "python3"
  },
  "language_info": {
   "codemirror_mode": {
    "name": "ipython",
    "version": 3
   },
   "file_extension": ".py",
   "mimetype": "text/x-python",
   "name": "python",
   "nbconvert_exporter": "python",
   "pygments_lexer": "ipython3",
   "version": "3.7.1"
  },
  "orig_nbformat": 4
 },
 "nbformat": 4,
 "nbformat_minor": 2
}
