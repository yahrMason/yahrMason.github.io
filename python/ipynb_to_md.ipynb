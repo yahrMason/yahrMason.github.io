{
 "cells": [
  {
   "cell_type": "code",
   "execution_count": 23,
   "metadata": {},
   "outputs": [],
   "source": [
    "NOTEBOOK = \"2023-06-14-ode-numeric-approx\""
   ]
  },
  {
   "cell_type": "code",
   "execution_count": 24,
   "metadata": {},
   "outputs": [
    {
     "data": {
      "text/plain": [
       "0"
      ]
     },
     "execution_count": 24,
     "metadata": {},
     "output_type": "execute_result"
    }
   ],
   "source": [
    "import os\n",
    "import shutil\n",
    "\n",
    "# convert notebook\n",
    "os.system(f\"jupyter nbconvert --to markdown {NOTEBOOK}.ipynb\")"
   ]
  },
  {
   "cell_type": "code",
   "execution_count": 25,
   "metadata": {},
   "outputs": [
    {
     "data": {
      "text/plain": [
       "'../assets/2023-06-14-ode-numeric-approx_files'"
      ]
     },
     "execution_count": 25,
     "metadata": {},
     "output_type": "execute_result"
    }
   ],
   "source": [
    "# Delete Markdown File in _posts if it exists\n",
    "if os.path.exists(f\"../_posts/{NOTEBOOK}.md\"):\n",
    "    os.remove(f\"../_posts/{NOTEBOOK}.md\")\n",
    "\n",
    "# If there are supporting files, delete the \n",
    "if os.path.exists(f\"{NOTEBOOK}_files\"):\n",
    "    if os.path.exists(f\"../assets/{NOTEBOOK}_files\"):\n",
    "        shutil.rmtree(f\"../assets/{NOTEBOOK}_files\")\n",
    "\n",
    "# Move posts and assets\n",
    "shutil.move(f\"{NOTEBOOK}.md\", f\"../_posts/{NOTEBOOK}.md\")\n",
    "shutil.move(f\"{NOTEBOOK}_files\",f\"../assets/{NOTEBOOK}_files\")"
   ]
  },
  {
   "cell_type": "code",
   "execution_count": 26,
   "metadata": {},
   "outputs": [],
   "source": [
    "# update image paths in md\n",
    "with open(f\"../_posts/{NOTEBOOK}.md\", \"r\") as OpenFile:\n",
    "    txt = OpenFile.read()\n",
    "    txt = txt.replace(\"![png](\", \"![png](/assets/\")\n",
    "\n",
    "with open(f\"../_posts/{NOTEBOOK}.md\", \"w\") as OpenFile:    \n",
    "    OpenFile.write(txt)"
   ]
  }
 ],
 "metadata": {
  "kernelspec": {
   "display_name": "base",
   "language": "python",
   "name": "python3"
  },
  "language_info": {
   "codemirror_mode": {
    "name": "ipython",
    "version": 3
   },
   "file_extension": ".py",
   "mimetype": "text/x-python",
   "name": "python",
   "nbconvert_exporter": "python",
   "pygments_lexer": "ipython3",
   "version": "3.7.1"
  },
  "orig_nbformat": 4
 },
 "nbformat": 4,
 "nbformat_minor": 2
}
